{
 "cells": [
  {
   "cell_type": "code",
   "execution_count": 1,
   "metadata": {
    "collapsed": true
   },
   "outputs": [],
   "source": [
    "import os\n",
    "import sys"
   ]
  },
  {
   "cell_type": "code",
   "execution_count": 11,
   "metadata": {
    "collapsed": true
   },
   "outputs": [],
   "source": [
    "# input and output Dir\n",
    "targetDir = \"/Users/baco/Music/iTunes/iTunes Media/Music/澤野弘之/アルドノア・ゼロ オリジナル・サウンドトラック\"\n",
    "outputDir = \"./raw\""
   ]
  },
  {
   "cell_type": "code",
   "execution_count": 15,
   "metadata": {},
   "outputs": [
    {
     "name": "stdout",
     "output_type": "stream",
     "text": [
      "/Users/baco/Music/iTunes/iTunes Media/Music/澤野弘之/アルドノア・ゼロ オリジナル・サウンドトラック/02 AZPV.mp3 => ./raw/02 AZPV.raw\n",
      "11375036\n",
      "/Users/baco/Music/iTunes/iTunes Media/Music/澤野弘之/アルドノア・ゼロ オリジナル・サウンドトラック/03 A-0picturez.mp3 => ./raw/03 A-0picturez.raw\n",
      "14644412\n",
      "/Users/baco/Music/iTunes/iTunes Media/Music/澤野弘之/アルドノア・ゼロ オリジナル・サウンドトラック/05 2零14zero91零.mp3 => ./raw/05 2零14zero91零.raw\n",
      "14685884\n",
      "/Users/baco/Music/iTunes/iTunes Media/Music/澤野弘之/アルドノア・ゼロ オリジナル・サウンドトラック/08 AD2014-7.5_7.9-零.A.mp3 => ./raw/08 AD2014-7.5_7.9-零.A.raw\n",
      "14605244\n",
      "/Users/baco/Music/iTunes/iTunes Media/Music/澤野弘之/アルドノア・ゼロ オリジナル・サウンドトラック/09 AL℃-@.mp3 => ./raw/09 AL℃-@.raw\n",
      "9801404\n",
      "/Users/baco/Music/iTunes/iTunes Media/Music/澤野弘之/アルドノア・ゼロ オリジナル・サウンドトラック/15 al-door0.mp3 => ./raw/15 al-door0.raw\n",
      "16492220\n",
      "/Users/baco/Music/iTunes/iTunes Media/Music/澤野弘之/アルドノア・ゼロ オリジナル・サウンドトラック/17 a.-17..mp3 => ./raw/17 a.-17..raw\n",
      "10460348\n",
      "/Users/baco/Music/iTunes/iTunes Media/Music/澤野弘之/アルドノア・ゼロ オリジナル・サウンドトラック/19 AcyOrt.mp3 => ./raw/19 AcyOrt.raw\n",
      "18282428\n"
     ]
    }
   ],
   "source": [
    "if __name__ == \"__main__\":\n",
    "    # 出力ディレクトリがなかったら作る\n",
    "    if not os.path.exists(outputDir):\n",
    "        os.mkdir(outputDir)\n",
    "    \n",
    "    # ターゲットの元にあるすべてのmp3が対象\n",
    "    for file in os.listdir(targetDir):\n",
    "        if not file.endswith(\".mp3\"): continue #拡張子が.mp3でなければスルー\n",
    "        mp3file = os.path.join(targetDir, file)\n",
    "        rawfile = os.path.join(outputDir, file.replace(\".mp3\", \".raw\"))\n",
    "        print(mp3file, \"=>\", rawfile)\n",
    "        \n",
    "        \n",
    "        # mp3を16kHz、32bitでリサンプリング\n",
    "        os.system(\"lame --resample 16 -b 32 '%s' temp.mp3\" % mp3file)\n",
    "        \n",
    "        # mp3をwavに変換\n",
    "        os.system(\"lame --decode temp.mp3 temp.wav\")\n",
    "        \n",
    "        # wavをrawに変換\n",
    "        os.system(\"sox temp.wav temp.raw\")\n",
    "\n",
    "        # ファイルサイズ取得\n",
    "        size = os.path.getsize(\"temp.raw\")\n",
    "        \n",
    "        # 波形のサンプル数を求める\n",
    "        # 1サンプルはshort型（2byte）なのでファイルサイズを2で割ればOK\n",
    "        numsample = size / 2\n",
    "        \n",
    "        # 中央から前後period秒だけ抽出\n",
    "        fs = 16000\n",
    "        period = 15\n",
    "        center = numsample / 2\n",
    "        start = center - fs * period\n",
    "        end = center + fs * period\n",
    "\n",
    "        # 30秒未満の曲の場合は範囲を狭める\n",
    "        if start < 0: start = 0\n",
    "        if end > numsample - 1: end = numsample - 1\n",
    "        os.system(\"bcut +s -s %d -e %d < '%s' > '%s'\" % (start, end, \"temp.raw\", rawfile))\n",
    "\n",
    "    # 後片付け\n",
    "    os.remove(\"temp.mp3\")\n",
    "    os.remove(\"temp.wav\")\n",
    "    os.remove(\"temp.raw\")"
   ]
  },
  {
   "cell_type": "code",
   "execution_count": null,
   "metadata": {
    "collapsed": true
   },
   "outputs": [],
   "source": []
  }
 ],
 "metadata": {
  "kernelspec": {
   "display_name": "Python 3",
   "language": "python",
   "name": "python3"
  },
  "language_info": {
   "codemirror_mode": {
    "name": "ipython",
    "version": 3
   },
   "file_extension": ".py",
   "mimetype": "text/x-python",
   "name": "python",
   "nbconvert_exporter": "python",
   "pygments_lexer": "ipython3",
   "version": "3.6.1"
  }
 },
 "nbformat": 4,
 "nbformat_minor": 2
}
